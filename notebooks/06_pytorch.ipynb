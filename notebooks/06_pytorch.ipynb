{
  "cells": [
    {
      "cell_type": "markdown",
      "metadata": {
        "id": "wN2xTLExf3S6"
      },
      "source": [
        "# Step 6: Neural Network & PyTorch"
      ]
    },
    {
      "cell_type": "markdown",
      "metadata": {
        "id": "oAZUFN1ef3S9"
      },
      "source": [
        "## tensor.py"
      ]
    },
    {
      "cell_type": "code",
      "execution_count": null,
      "metadata": {
        "id": "R2XTt8DPf3S9",
        "outputId": "b08010c9-0391-48a3-f6e5-5d3c691f43a5"
      },
      "outputs": [
        {
          "name": "stdout",
          "output_type": "stream",
          "text": [
            "tensor(75., grad_fn=<MulBackward0>)\n",
            "tensor(30.)\n"
          ]
        }
      ],
      "source": [
        "import torch\n",
        "\n",
        "x = torch.tensor(5.0, requires_grad=True)\n",
        "y = 3 * x ** 2\n",
        "print(y)\n",
        "\n",
        "y.backward()\n",
        "print(x.grad)"
      ]
    },
    {
      "cell_type": "markdown",
      "metadata": {
        "id": "M0ftB3AZf3S_"
      },
      "source": [
        "## gradient.py"
      ]
    },
    {
      "cell_type": "code",
      "execution_count": null,
      "metadata": {
        "id": "CEi1K0iuf3S_",
        "outputId": "477fe742-964e-4c06-e7f3-469b1794c99f"
      },
      "outputs": [
        {
          "name": "stdout",
          "output_type": "stream",
          "text": [
            "tensor(-2.) tensor(400.)\n",
            "0.0 2.0\n",
            "0.6815015077590942 0.46292299032211304\n",
            "0.8253857493400574 0.6804871559143066\n",
            "0.8942827582359314 0.7992911338806152\n",
            "0.9331904053688049 0.8705660700798035\n",
            "0.9568046927452087 0.9152978658676147\n",
            "0.9716982245445251 0.9440822601318359\n",
            "0.9813036918640137 0.9628812670707703\n",
            "0.98758465051651 0.9752733111381531\n",
            "0.9917276501655579 0.983490526676178\n",
            "0.9944759607315063 0.9889602065086365\n"
          ]
        }
      ],
      "source": [
        "import torch\n",
        "\n",
        "def rosenbrock(x0, x1):\n",
        "    y = 100 * (x1 - x0 ** 2) ** 2 + (x0 - 1) ** 2\n",
        "    return y\n",
        "\n",
        "x0 = torch.tensor(0.0, requires_grad=True)\n",
        "x1 = torch.tensor(2.0, requires_grad=True)\n",
        "\n",
        "y = rosenbrock(x0, x1)\n",
        "y.backward()\n",
        "print(x0.grad, x1.grad)\n",
        "\n",
        "lr = 0.001  # learning rate\n",
        "iters = 10000  # iteration count\n",
        "\n",
        "for i in range(iters):\n",
        "    if i % 1000 == 0:\n",
        "        print(x0.item(), x1.item())\n",
        "\n",
        "    y = rosenbrock(x0, x1)\n",
        "\n",
        "    y.backward()\n",
        "\n",
        "    x0.data -= lr * x0.grad.data\n",
        "    x1.data -= lr * x1.grad.data\n",
        "\n",
        "    x0.grad.zero_()\n",
        "    x1.grad.zero_()\n",
        "\n",
        "print(x0.item(), x1.item())"
      ]
    },
    {
      "cell_type": "markdown",
      "metadata": {
        "id": "a1ZfSgsff3TA"
      },
      "source": [
        "## regression.py"
      ]
    },
    {
      "cell_type": "code",
      "execution_count": 2,
      "metadata": {
        "id": "5BLJopodf3TB",
        "outputId": "94c74795-1ffd-4f53-ef92-1c1f5b061d05",
        "colab": {
          "base_uri": "https://localhost:8080/",
          "height": 692
        }
      },
      "outputs": [
        {
          "output_type": "stream",
          "name": "stdout",
          "text": [
            "41.89796447753906\n",
            "0.22483211755752563\n",
            "0.0925208106637001\n",
            "0.0888015553355217\n",
            "0.08627457916736603\n",
            "0.08435674756765366\n",
            "0.0829005315899849\n",
            "0.0817948430776596\n",
            "0.08095530420541763\n",
            "0.08031783998012543\n",
            "0.07987643033266068\n",
            "====\n",
            "W = 2.2863590717315674\n",
            "b = 5.3144850730896\n"
          ]
        },
        {
          "output_type": "display_data",
          "data": {
            "text/plain": [
              "<Figure size 640x480 with 1 Axes>"
            ],
            "image/png": "[encoded data removed]"
          },
          "metadata": {}
        }
      ],
      "source": [
        "import torch\n",
        "\n",
        "#トイ・データセット\n",
        "torch.manual_seed(0)\n",
        "x = torch.rand(100, 1)\n",
        "y = 5 + 2 * x + torch.rand(100, 1)\n",
        "\n",
        "W = torch.zeros((1, 1), requires_grad=True)\n",
        "b = torch.zeros(1, requires_grad=True)\n",
        "\n",
        "def predict(x):\n",
        "    y = x @ W + b\n",
        "    return y\n",
        "\n",
        "def mean_squared_error(x0, x1):\n",
        "    diff = x0 - x1\n",
        "    N = len(diff)\n",
        "    return torch.sum(diff ** 2) / N\n",
        "\n",
        "lr = 0.1\n",
        "iters = 100\n",
        "\n",
        "for i in range(iters):\n",
        "    y_hat = predict(x)\n",
        "    loss = mean_squared_error(y, y_hat)\n",
        "\n",
        "    loss.backward()\n",
        "\n",
        "    W.data -= lr * W.grad.data\n",
        "    b.data -= lr * b.grad.data\n",
        "\n",
        "    W.grad.zero_()\n",
        "    b.grad.zero_()\n",
        "\n",
        "    if i % 10 == 0: # print every 10 iterations\n",
        "        print(loss.item())\n",
        "\n",
        "print(loss.item())\n",
        "print('====')\n",
        "print('W =', W.item())\n",
        "print('b =', b.item())\n",
        "\n",
        "\n",
        "# plot\n",
        "import matplotlib.pyplot as plt\n",
        "plt.scatter(x.detach().numpy(), y.detach().numpy(), s=10)\n",
        "x = torch.tensor([[0.0], [1.0]])\n",
        "y = W.detach().numpy() * x.detach().numpy() + b.detach().numpy()\n",
        "plt.plot(x, y, color='red')\n",
        "plt.xlabel('x')\n",
        "plt.ylabel('y')\n",
        "plt.show()"
      ]
    },
    {
      "cell_type": "markdown",
      "metadata": {
        "id": "nNtPnCJhf3TB"
      },
      "source": [
        "## neuralnet.py"
      ]
    },
    {
      "cell_type": "code",
      "execution_count": null,
      "metadata": {
        "id": "w4RxXbSZf3TB",
        "outputId": "71843b7b-c6b7-4bc7-d07b-61383e8dbf9b"
      },
      "outputs": [
        {
          "name": "stdout",
          "output_type": "stream",
          "text": [
            "0.7643452286720276\n",
            "0.23656320571899414\n",
            "0.23226076364517212\n",
            "0.22441408038139343\n",
            "0.21026146411895752\n",
            "0.17957879602909088\n",
            "0.11798454076051712\n",
            "0.08481380343437195\n",
            "0.08023109287023544\n",
            "0.0796855092048645\n",
            "0.07945814728736877\n"
          ]
        },
        {
          "data": {
            "image/png": "[encoded data removed]",
            "text/plain": [
              "<Figure size 640x480 with 1 Axes>"
            ]
          },
          "metadata": {},
          "output_type": "display_data"
        }
      ],
      "source": [
        "import torch\n",
        "import torch.nn as nn\n",
        "import torch.nn.functional as F\n",
        "\n",
        "\n",
        "torch.manual_seed(0)\n",
        "x = torch.rand(100, 1)\n",
        "y = torch.sin(2 * torch.pi * x) + torch.rand(100, 1)\n",
        "\n",
        "# model\n",
        "class Model(nn.Module):\n",
        "    def __init__(self, input_size=1, hidden_size= 10, output_size=1):\n",
        "        super().__init__()\n",
        "        self.linear1 = nn.Linear(input_size, hidden_size)\n",
        "        self.linear2 = nn.Linear(hidden_size, output_size)\n",
        "\n",
        "    def forward(self, x):\n",
        "        y = self.linear1(x)\n",
        "        y = F.sigmoid(y)\n",
        "        y = self.linear2(y)\n",
        "        return y\n",
        "\n",
        "\n",
        "lr = 0.2\n",
        "iters = 10000\n",
        "\n",
        "model = Model()\n",
        "optimizer = torch.optim.SGD(model.parameters(), lr=lr)\n",
        "\n",
        "for i in range(iters):\n",
        "    y_pred = model(x)\n",
        "    loss = F.mse_loss(y, y_pred)\n",
        "    optimizer.zero_grad()\n",
        "    loss.backward()\n",
        "    optimizer.step()\n",
        "\n",
        "    if i % 1000 == 0:\n",
        "        print(loss.item())\n",
        "\n",
        "print(loss.item())\n",
        "\n",
        "# plot\n",
        "import matplotlib.pyplot as plt\n",
        "plt.scatter(x.detach().numpy(), y.detach().numpy(), s=10)\n",
        "x = torch.linspace(0, 1, 100).reshape(-1, 1)\n",
        "y = model(x).detach().numpy()\n",
        "plt.plot(x, y, color='red')\n",
        "plt.show()"
      ]
    },
    {
      "cell_type": "markdown",
      "metadata": {
        "id": "Qbmu2Zeff3TB"
      },
      "source": [
        "## vision.py"
      ]
    },
    {
      "cell_type": "code",
      "execution_count": null,
      "metadata": {
        "id": "YQJ8Ykehf3TC",
        "outputId": "0961ed3e-13bd-489e-be13-f6887740bbdc"
      },
      "outputs": [
        {
          "name": "stdout",
          "output_type": "stream",
          "text": [
            "Downloading http://yann.lecun.com/exdb/mnist/train-images-idx3-ubyte.gz\n",
            "Downloading http://yann.lecun.com/exdb/mnist/train-images-idx3-ubyte.gz to ./data/MNIST/raw/train-images-idx3-ubyte.gz\n"
          ]
        },
        {
          "name": "stderr",
          "output_type": "stream",
          "text": [
            "100%|██████████| 9912422/9912422 [00:01<00:00, 6778804.78it/s]\n"
          ]
        },
        {
          "name": "stdout",
          "output_type": "stream",
          "text": [
            "Extracting ./data/MNIST/raw/train-images-idx3-ubyte.gz to ./data/MNIST/raw\n",
            "\n",
            "Downloading http://yann.lecun.com/exdb/mnist/train-labels-idx1-ubyte.gz\n",
            "Downloading http://yann.lecun.com/exdb/mnist/train-labels-idx1-ubyte.gz to ./data/MNIST/raw/train-labels-idx1-ubyte.gz\n"
          ]
        },
        {
          "name": "stderr",
          "output_type": "stream",
          "text": [
            "100%|██████████| 28881/28881 [00:00<00:00, 3582730.29it/s]\n"
          ]
        },
        {
          "name": "stdout",
          "output_type": "stream",
          "text": [
            "Extracting ./data/MNIST/raw/train-labels-idx1-ubyte.gz to ./data/MNIST/raw\n",
            "\n",
            "Downloading http://yann.lecun.com/exdb/mnist/t10k-images-idx3-ubyte.gz\n",
            "Downloading http://yann.lecun.com/exdb/mnist/t10k-images-idx3-ubyte.gz to ./data/MNIST/raw/t10k-images-idx3-ubyte.gz\n"
          ]
        },
        {
          "name": "stderr",
          "output_type": "stream",
          "text": [
            "100%|██████████| 1648877/1648877 [00:00<00:00, 5282915.73it/s]\n"
          ]
        },
        {
          "name": "stdout",
          "output_type": "stream",
          "text": [
            "Extracting ./data/MNIST/raw/t10k-images-idx3-ubyte.gz to ./data/MNIST/raw\n",
            "\n",
            "Downloading http://yann.lecun.com/exdb/mnist/t10k-labels-idx1-ubyte.gz\n",
            "Downloading http://yann.lecun.com/exdb/mnist/t10k-labels-idx1-ubyte.gz to ./data/MNIST/raw/t10k-labels-idx1-ubyte.gz\n"
          ]
        },
        {
          "name": "stderr",
          "output_type": "stream",
          "text": [
            "100%|██████████| 4542/4542 [00:00<00:00, 8873092.11it/s]\n"
          ]
        },
        {
          "name": "stdout",
          "output_type": "stream",
          "text": [
            "Extracting ./data/MNIST/raw/t10k-labels-idx1-ubyte.gz to ./data/MNIST/raw\n",
            "\n",
            "size: 60000\n",
            "type: <class 'PIL.Image.Image'>\n",
            "label: 5\n"
          ]
        },
        {
          "data": {
            "image/png": "[encoded data removed]",
            "text/plain": [
              "<Figure size 640x480 with 1 Axes>"
            ]
          },
          "metadata": {},
          "output_type": "display_data"
        },
        {
          "name": "stdout",
          "output_type": "stream",
          "text": [
            "type: <class 'torch.Tensor'>\n",
            "shape: torch.Size([1, 28, 28])\n",
            "x shape: torch.Size([32, 1, 28, 28])\n",
            "label shape: torch.Size([32])\n"
          ]
        }
      ],
      "source": [
        "import torch\n",
        "import torchvision\n",
        "import torchvision.transforms as transforms\n",
        "import matplotlib.pyplot as plt\n",
        "\n",
        "\n",
        "## ==== MNIST ====\n",
        "dataset = torchvision.datasets.MNIST(\n",
        "    root='./data',\n",
        "    train=True,\n",
        "    transform=None,\n",
        "    download=True\n",
        ")\n",
        "\n",
        "x, label = dataset[0]\n",
        "\n",
        "print('size:', len(dataset))  # size: 60000\n",
        "print('type:', type(x))  # type: <class 'PIL.Image.Image'>\n",
        "print('label:', label)  # label: 5\n",
        "\n",
        "plt.imshow(x, cmap='gray')\n",
        "plt.show()\n",
        "\n",
        "\n",
        "# ==== preprocess ====\n",
        "transform = transforms.ToTensor()\n",
        "\n",
        "dataset = torchvision.datasets.MNIST(\n",
        "    root='./data',\n",
        "    train=True,\n",
        "    transform=transform,\n",
        "    download=True\n",
        ")\n",
        "\n",
        "x, label = dataset[0]\n",
        "print('type:', type(x))  # type: <class 'torch.Tensor'>\n",
        "print('shape:', x.shape)  # shape: torch.Size([1, 28, 28])\n",
        "\n",
        "\n",
        "# ==== DataLoader ====\n",
        "dataloader = torch.utils.data.DataLoader(\n",
        "    dataset,\n",
        "    batch_size=32,\n",
        "    shuffle=True)\n",
        "\n",
        "for x, label in dataloader:\n",
        "    print('x shape:', x.shape)  # shape: torch.Size([32, 1, 28, 28])\n",
        "    print('label shape:', label.shape)  # shape: torch.Size([32])\n",
        "    break"
      ]
    }
  ],
  "metadata": {
    "kernelspec": {
      "display_name": "Python 3",
      "language": "python",
      "name": "python3"
    },
    "language_info": {
      "codemirror_mode": {
        "name": "ipython",
        "version": 3
      },
      "file_extension": ".py",
      "mimetype": "text/x-python",
      "name": "python",
      "nbconvert_exporter": "python",
      "pygments_lexer": "ipython3",
      "version": "3.11.0rc2"
    },
    "colab": {
      "provenance": []
    }
  },
  "nbformat": 4,
  "nbformat_minor": 0
}